{
 "cells": [
  {
   "cell_type": "code",
   "execution_count": 14,
   "metadata": {},
   "outputs": [
    {
     "name": "stdout",
     "output_type": "stream",
     "text": [
      "The autoreload extension is already loaded. To reload it, use:\n",
      "  %reload_ext autoreload\n"
     ]
    }
   ],
   "source": [
    "%load_ext autoreload\n",
    "%autoreload 2\n",
    "import sys\n",
    "sys.path.append('./src')"
   ]
  },
  {
   "cell_type": "code",
   "execution_count": 15,
   "metadata": {},
   "outputs": [],
   "source": [
    "NUM_FRAMES = 10\n",
    "DOMAIN_RANDOMIZATION = True"
   ]
  },
  {
   "cell_type": "code",
   "execution_count": 22,
   "metadata": {},
   "outputs": [],
   "source": [
    "from gymnasium.wrappers import (\n",
    "    TimeLimit,\n",
    "    TransformReward,\n",
    "    FrameStackObservation,\n",
    "    TimeAwareObservation,\n",
    ")\n",
    "from env_hiv import HIVPatient\n",
    "from train import LatestActionWrapper\n",
    "\n",
    "\n",
    "def env_builder(domain_randomization=DOMAIN_RANDOMIZATION, normalize_reward=True):\n",
    "    env = HIVPatient(domain_randomization=domain_randomization)\n",
    "    if normalize_reward:\n",
    "        env = TransformReward(env, lambda reward: reward / 50000.0)\n",
    "    env = LatestActionWrapper(env)\n",
    "    env = TimeLimit(env, max_episode_steps=200)\n",
    "    env = TimeAwareObservation(env)\n",
    "    env = FrameStackObservation(env, NUM_FRAMES)\n",
    "    return env"
   ]
  },
  {
   "cell_type": "code",
   "execution_count": null,
   "metadata": {},
   "outputs": [],
   "source": [
    "from stable_baselines3 import PPO\n",
    "import wandb\n",
    "from wandb.integration.sb3 import WandbCallback\n",
    "\n",
    "env = env_builder(domain_randomization=DOMAIN_RANDOMIZATION, normalize_reward=True)\n",
    "name = \"ppo_mlp_randomized\"\n",
    "wandb.init(project=\"mva-rl-assignment-Butanium\", name=name, sync_tensorboard=True)\n",
    "model = PPO(\"MlpPolicy\", env, verbose=1, tensorboard_log=f\"logs/{name}\", device=\"cpu\")\n",
    "try:\n",
    "    model.learn(total_timesteps=10000, progress_bar=True, callback=WandbCallback())\n",
    "finally:\n",
    "    model.save(\"models/ppo_hiv_all_wrappers_rdmz_training\")"
   ]
  },
  {
   "cell_type": "markdown",
   "metadata": {},
   "source": [
    "## Manual evaluation"
   ]
  },
  {
   "cell_type": "code",
   "execution_count": 29,
   "metadata": {},
   "outputs": [],
   "source": [
    "from stable_baselines3.common.evaluation import evaluate_policy\n",
    "import numpy as np\n",
    "import plotly.express as px\n",
    "from plotly.subplots import make_subplots\n",
    "import plotly.graph_objects as go\n",
    "\n",
    "\n",
    "def test_model(model, n_eval_episodes=5):\n",
    "    env = env_builder(domain_randomization=False, normalize_reward=False)\n",
    "    ep_rewards_deterministic, _ = evaluate_policy(\n",
    "        model, env, n_eval_episodes=n_eval_episodes, return_episode_rewards=True\n",
    "    )\n",
    "    print(\n",
    "        f\"Mean reward (no randomization): {np.mean(ep_rewards_deterministic):.2e} +/- {np.std(ep_rewards_deterministic):.2e}\"\n",
    "    )\n",
    "\n",
    "    rnd_env = env_builder(domain_randomization=True, normalize_reward=False)\n",
    "    ep_rewards_rnd_deterministic, _ = evaluate_policy(\n",
    "        model, rnd_env, n_eval_episodes=n_eval_episodes, return_episode_rewards=True\n",
    "    )\n",
    "    print(\n",
    "        f\"Mean reward (with randomization): {np.mean(ep_rewards_rnd_deterministic):.2e} +/- {np.std(ep_rewards_rnd_deterministic):.2e}\"\n",
    "    )\n",
    "\n",
    "    ep_rewards_not_deterministic, _ = evaluate_policy(\n",
    "        model, env, n_eval_episodes=n_eval_episodes, return_episode_rewards=True, deterministic=False\n",
    "    )\n",
    "    print(\n",
    "        f\"Mean reward (no randomization) not deterministic: {np.mean(ep_rewards_not_deterministic):.2e} +/- {np.std(ep_rewards_not_deterministic):.2e}\"\n",
    "    )\n",
    "\n",
    "    ep_rewards_rnd_not_deterministic, _ = evaluate_policy(\n",
    "        model,\n",
    "        rnd_env,\n",
    "        n_eval_episodes=n_eval_episodes,\n",
    "        return_episode_rewards=True,\n",
    "        deterministic=False,\n",
    "    )\n",
    "    print(\n",
    "        f\"Mean reward (with randomization) not deterministic: {np.mean(ep_rewards_rnd_not_deterministic):.2e} +/- {np.std(ep_rewards_rnd_not_deterministic):.2e}\"\n",
    "    )\n",
    "    # 2x2 subplots with histograms of the episode rewards\n",
    "    fig = make_subplots(rows=2, cols=2)\n",
    "    fig.add_trace(go.Histogram(x=ep_rewards_deterministic, name=\"No randomization\"), row=1, col=1)\n",
    "    fig.add_trace(go.Histogram(x=ep_rewards_rnd_deterministic, name=\"With randomization\"), row=1, col=2)\n",
    "    fig.add_trace(\n",
    "        go.Histogram(x=ep_rewards_not_deterministic, name=\"No randomization not deterministic\"),\n",
    "        row=2,\n",
    "        col=1,\n",
    "    )\n",
    "    fig.add_trace(\n",
    "        go.Histogram(x=ep_rewards_rnd_not_deterministic, name=\"With randomization not deterministic\"),\n",
    "        row=2,\n",
    "        col=2,\n",
    "    )\n",
    "    fig.show()"
   ]
  },
  {
   "cell_type": "code",
   "execution_count": 25,
   "metadata": {},
   "outputs": [
    {
     "name": "stderr",
     "output_type": "stream",
     "text": [
      "c:\\Users\\Travail\\Documents\\mva\\mva-rl-assignment-Butanium\\.venv\\Lib\\site-packages\\gymnasium\\spaces\\box.py:235: UserWarning: WARN: Box low's precision lowered by casting to float32, current low.dtype=float64\n",
      "  gym.logger.warn(\n",
      "c:\\Users\\Travail\\Documents\\mva\\mva-rl-assignment-Butanium\\.venv\\Lib\\site-packages\\gymnasium\\spaces\\box.py:305: UserWarning: WARN: Box high's precision lowered by casting to float32, current high.dtype=float64\n",
      "  gym.logger.warn(\n"
     ]
    },
    {
     "name": "stdout",
     "output_type": "stream",
     "text": [
      "Action taken: 2, Reward received: 7808.100000000002\n",
      "Action taken: 0, Reward received: 25153.433950647708\n",
      "Action taken: 1, Reward received: 25074.952834907534\n",
      "Action taken: 1, Reward received: 26210.550910345428\n",
      "Action taken: 2, Reward received: 17540.23835598585\n",
      "Action taken: 0, Reward received: 30828.41191394606\n",
      "Action taken: 2, Reward received: 11791.550057180044\n",
      "Action taken: 3, Reward received: 16617.381185512862\n",
      "Action taken: 0, Reward received: 34280.690622839225\n",
      "Action taken: 2, Reward received: 15535.532192608596\n",
      "Action taken: 2, Reward received: 20691.143920580307\n",
      "Action taken: 3, Reward received: 21981.559643609147\n",
      "Action taken: 2, Reward received: 32177.423649555836\n",
      "Action taken: 1, Reward received: 52508.01264669672\n",
      "Action taken: 2, Reward received: 50250.51162622642\n",
      "Action taken: 2, Reward received: 48580.626446084905\n",
      "Action taken: 0, Reward received: 60262.64332386263\n",
      "Action taken: 2, Reward received: 19385.86614644558\n",
      "Action taken: 2, Reward received: 35134.7296933835\n",
      "Action taken: 2, Reward received: 39514.626616346635\n",
      "Action taken: 0, Reward received: 62025.998415313145\n",
      "Action taken: 0, Reward received: 69440.67724897017\n",
      "Action taken: 1, Reward received: 40310.74211170793\n",
      "Action taken: 2, Reward received: 33468.1068330982\n",
      "Action taken: 0, Reward received: 47292.14180864642\n",
      "Action taken: 1, Reward received: 40001.52104311463\n",
      "Action taken: 2, Reward received: 29897.581008034696\n",
      "Action taken: 2, Reward received: 32383.25711029354\n",
      "Action taken: 1, Reward received: 50738.58815304299\n",
      "Action taken: 2, Reward received: 53805.84735992717\n",
      "Action taken: 2, Reward received: 65647.50617151339\n",
      "Action taken: 2, Reward received: 83446.11449819188\n",
      "Action taken: 2, Reward received: 99286.6354503783\n",
      "Action taken: 1, Reward received: 120258.06952263892\n",
      "Action taken: 3, Reward received: 120410.45312418033\n",
      "Action taken: 0, Reward received: 129946.9083612462\n",
      "Action taken: 2, Reward received: 77498.39992294482\n",
      "Action taken: 2, Reward received: 80866.10435828248\n",
      "Action taken: 2, Reward received: 79611.71882355023\n",
      "Action taken: 2, Reward received: 95412.23891282096\n",
      "Action taken: 0, Reward received: 122166.83759847497\n",
      "Action taken: 2, Reward received: 119501.83459401056\n",
      "Action taken: 1, Reward received: 120249.26945001459\n",
      "Action taken: 2, Reward received: 94880.49211037245\n",
      "Action taken: 2, Reward received: 82036.50695345791\n",
      "Action taken: 3, Reward received: 74965.46860436082\n",
      "Action taken: 0, Reward received: 94340.45432777746\n",
      "Action taken: 2, Reward received: 51927.03769315034\n",
      "Action taken: 3, Reward received: 54858.23664979541\n",
      "Action taken: 3, Reward received: 55362.886002413084\n",
      "Action taken: 2, Reward received: 67677.88097227884\n",
      "Action taken: 3, Reward received: 83389.876567588\n",
      "Action taken: 1, Reward received: 98837.30779844838\n",
      "Action taken: 2, Reward received: 102961.90518322555\n",
      "Action taken: 3, Reward received: 107154.56056357548\n",
      "Action taken: 3, Reward received: 125626.03316750994\n",
      "Action taken: 0, Reward received: 163445.37645852874\n",
      "Action taken: 3, Reward received: 116910.30766369784\n",
      "Action taken: 2, Reward received: 113603.26183793652\n",
      "Action taken: 3, Reward received: 97766.0374507526\n",
      "Action taken: 3, Reward received: 99565.5475155643\n",
      "Action taken: 3, Reward received: 120745.20858483242\n",
      "Action taken: 0, Reward received: 147811.61176894393\n",
      "Action taken: 3, Reward received: 116894.30853522042\n",
      "Action taken: 0, Reward received: 117921.90481838254\n",
      "Action taken: 2, Reward received: 65100.06131269892\n",
      "Action taken: 1, Reward received: 82086.4873952587\n",
      "Action taken: 1, Reward received: 82444.69789721625\n",
      "Action taken: 3, Reward received: 80435.7991217066\n",
      "Action taken: 0, Reward received: 108859.31044185476\n",
      "Action taken: 2, Reward received: 115849.66510029612\n",
      "Action taken: 0, Reward received: 144410.53432361106\n",
      "Action taken: 0, Reward received: 138904.14342581824\n",
      "Action taken: 0, Reward received: 93199.32694468118\n",
      "Action taken: 2, Reward received: 76181.34911381043\n",
      "Action taken: 2, Reward received: 77470.85604453359\n",
      "Action taken: 0, Reward received: 102694.3295394637\n",
      "Action taken: 1, Reward received: 122002.25115228773\n",
      "Action taken: 1, Reward received: 141329.55714415124\n",
      "Action taken: 0, Reward received: 152155.28354919417\n",
      "Action taken: 0, Reward received: 125398.27792780161\n",
      "Action taken: 2, Reward received: 76202.05218834715\n",
      "Action taken: 2, Reward received: 82364.23312840272\n",
      "Action taken: 0, Reward received: 98291.91414908147\n",
      "Action taken: 1, Reward received: 106085.91061360255\n",
      "Action taken: 0, Reward received: 104974.16781789807\n",
      "Action taken: 1, Reward received: 81088.76729016416\n",
      "Action taken: 0, Reward received: 70691.97714193756\n",
      "Action taken: 2, Reward received: 40076.07020697121\n",
      "Action taken: 2, Reward received: 48164.93872315646\n",
      "Action taken: 1, Reward received: 64643.59207380789\n",
      "Action taken: 1, Reward received: 80555.84445894841\n",
      "Action taken: 3, Reward received: 83893.83614928238\n",
      "Action taken: 3, Reward received: 102101.5180077652\n",
      "Action taken: 3, Reward received: 100854.13107587193\n",
      "Action taken: 2, Reward received: 75501.98477799358\n",
      "Action taken: 3, Reward received: 49627.06756748287\n",
      "Action taken: 1, Reward received: 42485.68075352632\n",
      "Action taken: 2, Reward received: 32897.086093050995\n",
      "Action taken: 0, Reward received: 54088.90292486818\n",
      "Action taken: 0, Reward received: 25698.236273325754\n",
      "Action taken: 2, Reward received: 9409.302194359312\n",
      "Action taken: 2, Reward received: 29421.38547165953\n",
      "Action taken: 1, Reward received: 46166.369072384434\n",
      "Action taken: 0, Reward received: 60588.866481065386\n",
      "Action taken: 2, Reward received: 64086.19241460276\n",
      "Action taken: 0, Reward received: 89772.90208992422\n",
      "Action taken: 2, Reward received: 87620.42703255065\n",
      "Action taken: 3, Reward received: 87646.07907502966\n",
      "Action taken: 3, Reward received: 106892.01480281827\n",
      "Action taken: 3, Reward received: 109587.52521871644\n",
      "Action taken: 3, Reward received: 84348.42670114413\n",
      "Action taken: 3, Reward received: 56599.059180965516\n",
      "Action taken: 0, Reward received: 47578.638652811154\n",
      "Action taken: 1, Reward received: 43545.868450218346\n",
      "Action taken: 1, Reward received: 15725.801249638229\n",
      "Action taken: 0, Reward received: 19080.7359034977\n",
      "Action taken: 2, Reward received: 13223.687807553593\n",
      "Action taken: 3, Reward received: 21645.46435801759\n",
      "Action taken: 1, Reward received: 41095.80461052812\n",
      "Action taken: 0, Reward received: 49759.09822107625\n",
      "Action taken: 0, Reward received: 60890.8789745502\n",
      "Action taken: 1, Reward received: 54571.64573127856\n",
      "Action taken: 3, Reward received: 36605.75208380376\n",
      "Action taken: 3, Reward received: 38432.09298227777\n",
      "Action taken: 2, Reward received: 50517.68576523574\n",
      "Action taken: 2, Reward received: 62473.858366128086\n",
      "Action taken: 0, Reward received: 75699.00001550249\n",
      "Action taken: 2, Reward received: 66446.67998183917\n",
      "Action taken: 1, Reward received: 68283.40558104689\n",
      "Action taken: 0, Reward received: 48716.05549706158\n",
      "Action taken: 2, Reward received: 19011.8310333611\n",
      "Action taken: 1, Reward received: 45169.41613464102\n",
      "Action taken: 1, Reward received: 50560.578600321605\n",
      "Action taken: 1, Reward received: 62726.81493296133\n",
      "Action taken: 3, Reward received: 68781.95497741672\n",
      "Action taken: 0, Reward received: 91251.76217785942\n",
      "Action taken: 1, Reward received: 101329.08916766263\n",
      "Action taken: 2, Reward received: 90580.39215902514\n",
      "Action taken: 1, Reward received: 97396.73289935754\n",
      "Action taken: 2, Reward received: 81941.2448955993\n",
      "Action taken: 3, Reward received: 72699.65882376411\n",
      "Action taken: 2, Reward received: 81045.94725906331\n",
      "Action taken: 2, Reward received: 99911.44326256888\n",
      "Action taken: 2, Reward received: 123873.28065107363\n",
      "Action taken: 1, Reward received: 159933.92063480904\n",
      "Action taken: 3, Reward received: 143531.89460872754\n",
      "Action taken: 2, Reward received: 126452.51806241566\n",
      "Action taken: 0, Reward received: 124192.15937380276\n",
      "Action taken: 0, Reward received: 79701.55405351575\n",
      "Action taken: 2, Reward received: 70827.41363720858\n",
      "Action taken: 2, Reward received: 72956.28870106717\n",
      "Action taken: 1, Reward received: 96766.05090004053\n",
      "Action taken: 3, Reward received: 92357.81567931845\n",
      "Action taken: 0, Reward received: 88899.24134710256\n",
      "Action taken: 0, Reward received: 85487.04937183541\n",
      "Action taken: 2, Reward received: 75138.70176192625\n",
      "Action taken: 1, Reward received: 79507.58215916606\n",
      "Action taken: 0, Reward received: 72577.02361527094\n",
      "Action taken: 3, Reward received: 27881.81664114577\n",
      "Action taken: 2, Reward received: 45897.00049026245\n",
      "Action taken: 2, Reward received: 52321.415768934574\n",
      "Action taken: 3, Reward received: 63682.963234664276\n",
      "Action taken: 0, Reward received: 66964.64239083884\n",
      "Action taken: 1, Reward received: 67376.78328672818\n",
      "Action taken: 3, Reward received: 59892.75941264309\n",
      "Action taken: 0, Reward received: 75854.67459649006\n",
      "Action taken: 2, Reward received: 41138.75952685197\n",
      "Action taken: 0, Reward received: 55462.647025374936\n",
      "Action taken: 2, Reward received: 18069.093742927274\n",
      "Action taken: 2, Reward received: 34850.51472091065\n",
      "Action taken: 1, Reward received: 48641.05270893282\n",
      "Action taken: 0, Reward received: 61131.279444118976\n",
      "Action taken: 3, Reward received: 47725.98695956639\n",
      "Action taken: 2, Reward received: 53143.639125429734\n",
      "Action taken: 2, Reward received: 67728.76883845693\n",
      "Action taken: 2, Reward received: 81952.93270409972\n",
      "Action taken: 2, Reward received: 87161.43081240627\n",
      "Action taken: 1, Reward received: 95333.57389932548\n",
      "Action taken: 2, Reward received: 98967.44077359424\n",
      "Action taken: 2, Reward received: 98752.80225586859\n",
      "Action taken: 3, Reward received: 101705.20429307237\n",
      "Action taken: 3, Reward received: 117725.22151866378\n",
      "Action taken: 1, Reward received: 153840.36181428228\n",
      "Action taken: 2, Reward received: 142039.8405234506\n",
      "Action taken: 1, Reward received: 122589.7734255784\n",
      "Action taken: 2, Reward received: 72603.07483062454\n",
      "Action taken: 2, Reward received: 77321.17792269369\n",
      "Action taken: 1, Reward received: 85260.74507357\n",
      "Action taken: 2, Reward received: 80102.20825437517\n",
      "Action taken: 0, Reward received: 98335.77273198268\n",
      "Action taken: 1, Reward received: 86422.1063888104\n",
      "Action taken: 3, Reward received: 56019.77192070465\n",
      "Action taken: 2, Reward received: 58927.48636915091\n",
      "Action taken: 0, Reward received: 71922.79462383938\n",
      "Action taken: 1, Reward received: 59122.651034240116\n",
      "Action taken: 3, Reward received: 36241.8262698435\n",
      "Action taken: 1, Reward received: 50324.274211819844\n",
      "Action taken: 0, Reward received: 48310.65566151758\n",
      "Action taken: 2, Reward received: 13271.477218174878\n",
      "Total reward: 14665545.057988979\n"
     ]
    },
    {
     "data": {
      "image/png": "[encoded data removed]",
      "text/plain": [
       "<Figure size 640x480 with 1 Axes>"
      ]
     },
     "metadata": {},
     "output_type": "display_data"
    }
   ],
   "source": [
    "env = env_builder(domain_randomization=False, normalize_reward=False)\n",
    "obs, _ = env.reset()\n",
    "done = False\n",
    "truncated = False\n",
    "total_reward = 0\n",
    "all_rewards = []\n",
    "while not done and not truncated:\n",
    "    action = model.predict(obs, deterministic=False)[0]\n",
    "    obs, reward, terminated, truncated, info = env.step(action)\n",
    "    total_reward += reward\n",
    "    all_rewards.append(reward)\n",
    "    print(f\"Action taken: {action}, Reward received: {reward}\")\n",
    "\n",
    "print(f\"Total reward: {total_reward}\")\n",
    "import matplotlib.pyplot as plt\n",
    "plt.hist(all_rewards, bins=30)  # Increased the number of bins for better granularity\n",
    "plt.show()"
   ]
  },
  {
   "cell_type": "code",
   "execution_count": 30,
   "metadata": {},
   "outputs": [
    {
     "name": "stderr",
     "output_type": "stream",
     "text": [
      "c:\\Users\\Travail\\Documents\\mva\\mva-rl-assignment-Butanium\\.venv\\Lib\\site-packages\\gymnasium\\spaces\\box.py:235: UserWarning:\n",
      "\n",
      "WARN: Box low's precision lowered by casting to float32, current low.dtype=float64\n",
      "\n",
      "c:\\Users\\Travail\\Documents\\mva\\mva-rl-assignment-Butanium\\.venv\\Lib\\site-packages\\gymnasium\\spaces\\box.py:305: UserWarning:\n",
      "\n",
      "WARN: Box high's precision lowered by casting to float32, current high.dtype=float64\n",
      "\n",
      "c:\\Users\\Travail\\Documents\\mva\\mva-rl-assignment-Butanium\\.venv\\Lib\\site-packages\\stable_baselines3\\common\\evaluation.py:67: UserWarning:\n",
      "\n",
      "Evaluation environment is not wrapped with a ``Monitor`` wrapper. This may result in reporting modified episode lengths and rewards, if other wrappers happen to modify these. Consider wrapping environment first with ``Monitor`` wrapper.\n",
      "\n"
     ]
    },
    {
     "name": "stdout",
     "output_type": "stream",
     "text": [
      "Mean reward (no randomization): 3.21e+06 +/- 0.00e+00\n",
      "Mean reward (with randomization): 4.32e+06 +/- 1.46e+06\n",
      "Mean reward (no randomization) not deterministic: 1.64e+07 +/- 4.01e+06\n",
      "Mean reward (with randomization) not deterministic: 1.42e+07 +/- 3.86e+06\n"
     ]
    },
    {
     "data": {
      "application/vnd.plotly.v1+json": {
       "config": {
        "plotlyServerURL": "https://plot.ly"
       },
       "data": [
        {
         "name": "No randomization",
         "type": "histogram",
         "x": [
          3208373.2094726562,
          3208373.2094726562,
          3208373.2094726562,
          3208373.2094726562,
          3208373.2094726562,
          3208373.2094726562,
          3208373.2094726562,
          3208373.2094726562,
          3208373.2094726562,
          3208373.2094726562
         ],
         "xaxis": "x",
         "yaxis": "y"
        },
        {
         "name": "With randomization",
         "type": "histogram",
         "x": [
          2844865.2944335938,
          3459717.65234375,
          5249407.1232299805,
          4690560.473144531,
          7834459.827636719,
          4388038.018981934,
          3108143.741027832,
          3189516.657104492,
          3193045.4692382812,
          5266810.375564575
         ],
         "xaxis": "x2",
         "yaxis": "y2"
        },
        {
         "name": "No randomization not deterministic",
         "type": "histogram",
         "x": [
          14957735.705078125,
          23450695.60595703,
          20015349.639160156,
          11195638.471191406,
          11947646.475952148,
          14237888.3988266,
          14501646.315429688,
          15008006.006591797,
          15770017.743530273,
          22608614.37158203
         ],
         "xaxis": "x3",
         "yaxis": "y3"
        },
        {
         "name": "With randomization not deterministic",
         "type": "histogram",
         "x": [
          11537306.061950684,
          7486510.346359253,
          9699663.53717041,
          21623059.02294922,
          18449299.559570312,
          15036931.54119873,
          15441169.592407227,
          15003556.495056152,
          13376946.102783203,
          14257539.190429688
         ],
         "xaxis": "x4",
         "yaxis": "y4"
        }
       ],
       "layout": {
        "template": {
         "data": {
          "bar": [
           {
            "error_x": {
             "color": "#2a3f5f"
            },
            "error_y": {
             "color": "#2a3f5f"
            },
            "marker": {
             "line": {
              "color": "#E5ECF6",
              "width": 0.5
             },
             "pattern": {
              "fillmode": "overlay",
              "size": 10,
              "solidity": 0.2
             }
            },
            "type": "bar"
           }
          ],
          "barpolar": [
           {
            "marker": {
             "line": {
              "color": "#E5ECF6",
              "width": 0.5
             },
             "pattern": {
              "fillmode": "overlay",
              "size": 10,
              "solidity": 0.2
             }
            },
            "type": "barpolar"
           }
          ],
          "carpet": [
           {
            "aaxis": {
             "endlinecolor": "#2a3f5f",
             "gridcolor": "white",
             "linecolor": "white",
             "minorgridcolor": "white",
             "startlinecolor": "#2a3f5f"
            },
            "baxis": {
             "endlinecolor": "#2a3f5f",
             "gridcolor": "white",
             "linecolor": "white",
             "minorgridcolor": "white",
             "startlinecolor": "#2a3f5f"
            },
            "type": "carpet"
           }
          ],
          "choropleth": [
           {
            "colorbar": {
             "outlinewidth": 0,
             "ticks": ""
            },
            "type": "choropleth"
           }
          ],
          "contour": [
           {
            "colorbar": {
             "outlinewidth": 0,
             "ticks": ""
            },
            "colorscale": [
             [
              0,
              "#0d0887"
             ],
             [
              0.1111111111111111,
              "#46039f"
             ],
             [
              0.2222222222222222,
              "#7201a8"
             ],
             [
              0.3333333333333333,
              "#9c179e"
             ],
             [
              0.4444444444444444,
              "#bd3786"
             ],
             [
              0.5555555555555556,
              "#d8576b"
             ],
             [
              0.6666666666666666,
              "#ed7953"
             ],
             [
              0.7777777777777778,
              "#fb9f3a"
             ],
             [
              0.8888888888888888,
              "#fdca26"
             ],
             [
              1,
              "#f0f921"
             ]
            ],
            "type": "contour"
           }
          ],
          "contourcarpet": [
           {
            "colorbar": {
             "outlinewidth": 0,
             "ticks": ""
            },
            "type": "contourcarpet"
           }
          ],
          "heatmap": [
           {
            "colorbar": {
             "outlinewidth": 0,
             "ticks": ""
            },
            "colorscale": [
             [
              0,
              "#0d0887"
             ],
             [
              0.1111111111111111,
              "#46039f"
             ],
             [
              0.2222222222222222,
              "#7201a8"
             ],
             [
              0.3333333333333333,
              "#9c179e"
             ],
             [
              0.4444444444444444,
              "#bd3786"
             ],
             [
              0.5555555555555556,
              "#d8576b"
             ],
             [
              0.6666666666666666,
              "#ed7953"
             ],
             [
              0.7777777777777778,
              "#fb9f3a"
             ],
             [
              0.8888888888888888,
              "#fdca26"
             ],
             [
              1,
              "#f0f921"
             ]
            ],
            "type": "heatmap"
           }
          ],
          "heatmapgl": [
           {
            "colorbar": {
             "outlinewidth": 0,
             "ticks": ""
            },
            "colorscale": [
             [
              0,
              "#0d0887"
             ],
             [
              0.1111111111111111,
              "#46039f"
             ],
             [
              0.2222222222222222,
              "#7201a8"
             ],
             [
              0.3333333333333333,
              "#9c179e"
             ],
             [
              0.4444444444444444,
              "#bd3786"
             ],
             [
              0.5555555555555556,
              "#d8576b"
             ],
             [
              0.6666666666666666,
              "#ed7953"
             ],
             [
              0.7777777777777778,
              "#fb9f3a"
             ],
             [
              0.8888888888888888,
              "#fdca26"
             ],
             [
              1,
              "#f0f921"
             ]
            ],
            "type": "heatmapgl"
           }
          ],
          "histogram": [
           {
            "marker": {
             "pattern": {
              "fillmode": "overlay",
              "size": 10,
              "solidity": 0.2
             }
            },
            "type": "histogram"
           }
          ],
          "histogram2d": [
           {
            "colorbar": {
             "outlinewidth": 0,
             "ticks": ""
            },
            "colorscale": [
             [
              0,
              "#0d0887"
             ],
             [
              0.1111111111111111,
              "#46039f"
             ],
             [
              0.2222222222222222,
              "#7201a8"
             ],
             [
              0.3333333333333333,
              "#9c179e"
             ],
             [
              0.4444444444444444,
              "#bd3786"
             ],
             [
              0.5555555555555556,
              "#d8576b"
             ],
             [
              0.6666666666666666,
              "#ed7953"
             ],
             [
              0.7777777777777778,
              "#fb9f3a"
             ],
             [
              0.8888888888888888,
              "#fdca26"
             ],
             [
              1,
              "#f0f921"
             ]
            ],
            "type": "histogram2d"
           }
          ],
          "histogram2dcontour": [
           {
            "colorbar": {
             "outlinewidth": 0,
             "ticks": ""
            },
            "colorscale": [
             [
              0,
              "#0d0887"
             ],
             [
              0.1111111111111111,
              "#46039f"
             ],
             [
              0.2222222222222222,
              "#7201a8"
             ],
             [
              0.3333333333333333,
              "#9c179e"
             ],
             [
              0.4444444444444444,
              "#bd3786"
             ],
             [
              0.5555555555555556,
              "#d8576b"
             ],
             [
              0.6666666666666666,
              "#ed7953"
             ],
             [
              0.7777777777777778,
              "#fb9f3a"
             ],
             [
              0.8888888888888888,
              "#fdca26"
             ],
             [
              1,
              "#f0f921"
             ]
            ],
            "type": "histogram2dcontour"
           }
          ],
          "mesh3d": [
           {
            "colorbar": {
             "outlinewidth": 0,
             "ticks": ""
            },
            "type": "mesh3d"
           }
          ],
          "parcoords": [
           {
            "line": {
             "colorbar": {
              "outlinewidth": 0,
              "ticks": ""
             }
            },
            "type": "parcoords"
           }
          ],
          "pie": [
           {
            "automargin": true,
            "type": "pie"
           }
          ],
          "scatter": [
           {
            "fillpattern": {
             "fillmode": "overlay",
             "size": 10,
             "solidity": 0.2
            },
            "type": "scatter"
           }
          ],
          "scatter3d": [
           {
            "line": {
             "colorbar": {
              "outlinewidth": 0,
              "ticks": ""
             }
            },
            "marker": {
             "colorbar": {
              "outlinewidth": 0,
              "ticks": ""
             }
            },
            "type": "scatter3d"
           }
          ],
          "scattercarpet": [
           {
            "marker": {
             "colorbar": {
              "outlinewidth": 0,
              "ticks": ""
             }
            },
            "type": "scattercarpet"
           }
          ],
          "scattergeo": [
           {
            "marker": {
             "colorbar": {
              "outlinewidth": 0,
              "ticks": ""
             }
            },
            "type": "scattergeo"
           }
          ],
          "scattergl": [
           {
            "marker": {
             "colorbar": {
              "outlinewidth": 0,
              "ticks": ""
             }
            },
            "type": "scattergl"
           }
          ],
          "scattermapbox": [
           {
            "marker": {
             "colorbar": {
              "outlinewidth": 0,
              "ticks": ""
             }
            },
            "type": "scattermapbox"
           }
          ],
          "scatterpolar": [
           {
            "marker": {
             "colorbar": {
              "outlinewidth": 0,
              "ticks": ""
             }
            },
            "type": "scatterpolar"
           }
          ],
          "scatterpolargl": [
           {
            "marker": {
             "colorbar": {
              "outlinewidth": 0,
              "ticks": ""
             }
            },
            "type": "scatterpolargl"
           }
          ],
          "scatterternary": [
           {
            "marker": {
             "colorbar": {
              "outlinewidth": 0,
              "ticks": ""
             }
            },
            "type": "scatterternary"
           }
          ],
          "surface": [
           {
            "colorbar": {
             "outlinewidth": 0,
             "ticks": ""
            },
            "colorscale": [
             [
              0,
              "#0d0887"
             ],
             [
              0.1111111111111111,
              "#46039f"
             ],
             [
              0.2222222222222222,
              "#7201a8"
             ],
             [
              0.3333333333333333,
              "#9c179e"
             ],
             [
              0.4444444444444444,
              "#bd3786"
             ],
             [
              0.5555555555555556,
              "#d8576b"
             ],
             [
              0.6666666666666666,
              "#ed7953"
             ],
             [
              0.7777777777777778,
              "#fb9f3a"
             ],
             [
              0.8888888888888888,
              "#fdca26"
             ],
             [
              1,
              "#f0f921"
             ]
            ],
            "type": "surface"
           }
          ],
          "table": [
           {
            "cells": {
             "fill": {
              "color": "#EBF0F8"
             },
             "line": {
              "color": "white"
             }
            },
            "header": {
             "fill": {
              "color": "#C8D4E3"
             },
             "line": {
              "color": "white"
             }
            },
            "type": "table"
           }
          ]
         },
         "layout": {
          "annotationdefaults": {
           "arrowcolor": "#2a3f5f",
           "arrowhead": 0,
           "arrowwidth": 1
          },
          "autotypenumbers": "strict",
          "coloraxis": {
           "colorbar": {
            "outlinewidth": 0,
            "ticks": ""
           }
          },
          "colorscale": {
           "diverging": [
            [
             0,
             "#8e0152"
            ],
            [
             0.1,
             "#c51b7d"
            ],
            [
             0.2,
             "#de77ae"
            ],
            [
             0.3,
             "#f1b6da"
            ],
            [
             0.4,
             "#fde0ef"
            ],
            [
             0.5,
             "#f7f7f7"
            ],
            [
             0.6,
             "#e6f5d0"
            ],
            [
             0.7,
             "#b8e186"
            ],
            [
             0.8,
             "#7fbc41"
            ],
            [
             0.9,
             "#4d9221"
            ],
            [
             1,
             "#276419"
            ]
           ],
           "sequential": [
            [
             0,
             "#0d0887"
            ],
            [
             0.1111111111111111,
             "#46039f"
            ],
            [
             0.2222222222222222,
             "#7201a8"
            ],
            [
             0.3333333333333333,
             "#9c179e"
            ],
            [
             0.4444444444444444,
             "#bd3786"
            ],
            [
             0.5555555555555556,
             "#d8576b"
            ],
            [
             0.6666666666666666,
             "#ed7953"
            ],
            [
             0.7777777777777778,
             "#fb9f3a"
            ],
            [
             0.8888888888888888,
             "#fdca26"
            ],
            [
             1,
             "#f0f921"
            ]
           ],
           "sequentialminus": [
            [
             0,
             "#0d0887"
            ],
            [
             0.1111111111111111,
             "#46039f"
            ],
            [
             0.2222222222222222,
             "#7201a8"
            ],
            [
             0.3333333333333333,
             "#9c179e"
            ],
            [
             0.4444444444444444,
             "#bd3786"
            ],
            [
             0.5555555555555556,
             "#d8576b"
            ],
            [
             0.6666666666666666,
             "#ed7953"
            ],
            [
             0.7777777777777778,
             "#fb9f3a"
            ],
            [
             0.8888888888888888,
             "#fdca26"
            ],
            [
             1,
             "#f0f921"
            ]
           ]
          },
          "colorway": [
           "#636efa",
           "#EF553B",
           "#00cc96",
           "#ab63fa",
           "#FFA15A",
           "#19d3f3",
           "#FF6692",
           "#B6E880",
           "#FF97FF",
           "#FECB52"
          ],
          "font": {
           "color": "#2a3f5f"
          },
          "geo": {
           "bgcolor": "white",
           "lakecolor": "white",
           "landcolor": "#E5ECF6",
           "showlakes": true,
           "showland": true,
           "subunitcolor": "white"
          },
          "hoverlabel": {
           "align": "left"
          },
          "hovermode": "closest",
          "mapbox": {
           "style": "light"
          },
          "paper_bgcolor": "white",
          "plot_bgcolor": "#E5ECF6",
          "polar": {
           "angularaxis": {
            "gridcolor": "white",
            "linecolor": "white",
            "ticks": ""
           },
           "bgcolor": "#E5ECF6",
           "radialaxis": {
            "gridcolor": "white",
            "linecolor": "white",
            "ticks": ""
           }
          },
          "scene": {
           "xaxis": {
            "backgroundcolor": "#E5ECF6",
            "gridcolor": "white",
            "gridwidth": 2,
            "linecolor": "white",
            "showbackground": true,
            "ticks": "",
            "zerolinecolor": "white"
           },
           "yaxis": {
            "backgroundcolor": "#E5ECF6",
            "gridcolor": "white",
            "gridwidth": 2,
            "linecolor": "white",
            "showbackground": true,
            "ticks": "",
            "zerolinecolor": "white"
           },
           "zaxis": {
            "backgroundcolor": "#E5ECF6",
            "gridcolor": "white",
            "gridwidth": 2,
            "linecolor": "white",
            "showbackground": true,
            "ticks": "",
            "zerolinecolor": "white"
           }
          },
          "shapedefaults": {
           "line": {
            "color": "#2a3f5f"
           }
          },
          "ternary": {
           "aaxis": {
            "gridcolor": "white",
            "linecolor": "white",
            "ticks": ""
           },
           "baxis": {
            "gridcolor": "white",
            "linecolor": "white",
            "ticks": ""
           },
           "bgcolor": "#E5ECF6",
           "caxis": {
            "gridcolor": "white",
            "linecolor": "white",
            "ticks": ""
           }
          },
          "title": {
           "x": 0.05
          },
          "xaxis": {
           "automargin": true,
           "gridcolor": "white",
           "linecolor": "white",
           "ticks": "",
           "title": {
            "standoff": 15
           },
           "zerolinecolor": "white",
           "zerolinewidth": 2
          },
          "yaxis": {
           "automargin": true,
           "gridcolor": "white",
           "linecolor": "white",
           "ticks": "",
           "title": {
            "standoff": 15
           },
           "zerolinecolor": "white",
           "zerolinewidth": 2
          }
         }
        },
        "xaxis": {
         "anchor": "y",
         "domain": [
          0,
          0.45
         ]
        },
        "xaxis2": {
         "anchor": "y2",
         "domain": [
          0.55,
          1
         ]
        },
        "xaxis3": {
         "anchor": "y3",
         "domain": [
          0,
          0.45
         ]
        },
        "xaxis4": {
         "anchor": "y4",
         "domain": [
          0.55,
          1
         ]
        },
        "yaxis": {
         "anchor": "x",
         "domain": [
          0.575,
          1
         ]
        },
        "yaxis2": {
         "anchor": "x2",
         "domain": [
          0.575,
          1
         ]
        },
        "yaxis3": {
         "anchor": "x3",
         "domain": [
          0,
          0.425
         ]
        },
        "yaxis4": {
         "anchor": "x4",
         "domain": [
          0,
          0.425
         ]
        }
       }
      }
     },
     "metadata": {},
     "output_type": "display_data"
    }
   ],
   "source": [
    "test_model(model, n_eval_episodes=10)"
   ]
  },
  {
   "cell_type": "code",
   "execution_count": null,
   "metadata": {},
   "outputs": [],
   "source": []
  }
 ],
 "metadata": {
  "kernelspec": {
   "display_name": ".venv",
   "language": "python",
   "name": "python3"
  },
  "language_info": {
   "codemirror_mode": {
    "name": "ipython",
    "version": 3
   },
   "file_extension": ".py",
   "mimetype": "text/x-python",
   "name": "python",
   "nbconvert_exporter": "python",
   "pygments_lexer": "ipython3",
   "version": "3.12.4"
  }
 },
 "nbformat": 4,
 "nbformat_minor": 2
}
